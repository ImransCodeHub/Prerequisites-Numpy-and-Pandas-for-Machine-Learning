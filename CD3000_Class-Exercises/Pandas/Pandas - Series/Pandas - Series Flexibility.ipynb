{
 "cells": [
  {
   "cell_type": "markdown",
   "id": "7f929811",
   "metadata": {},
   "source": [
    "# Flexibility of a Pandas Series"
   ]
  },
  {
   "cell_type": "code",
   "execution_count": 1,
   "id": "d5abf947",
   "metadata": {},
   "outputs": [],
   "source": [
    "import pandas as pd"
   ]
  },
  {
   "cell_type": "code",
   "execution_count": 2,
   "id": "2b95bb93",
   "metadata": {},
   "outputs": [
    {
     "data": {
      "text/plain": [
       "0     cna\n",
       "1     100\n",
       "2     2.8\n",
       "3    True\n",
       "dtype: object"
      ]
     },
     "execution_count": 2,
     "metadata": {},
     "output_type": "execute_result"
    }
   ],
   "source": [
    "pd.Series(['cna', 100, 2.8, True])"
   ]
  },
  {
   "cell_type": "code",
   "execution_count": 3,
   "id": "588df840",
   "metadata": {},
   "outputs": [],
   "source": [
    "flexibility_example = pd.Series(['cna', 100, 2.8, True])"
   ]
  },
  {
   "cell_type": "code",
   "execution_count": 4,
   "id": "25a1380f",
   "metadata": {},
   "outputs": [
    {
     "data": {
      "text/plain": [
       "'cna'"
      ]
     },
     "execution_count": 4,
     "metadata": {},
     "output_type": "execute_result"
    }
   ],
   "source": [
    "flexibility_example[0]"
   ]
  },
  {
   "cell_type": "code",
   "execution_count": 5,
   "id": "5764c6c5",
   "metadata": {},
   "outputs": [
    {
     "name": "stdout",
     "output_type": "stream",
     "text": [
      "<class 'str'>\n"
     ]
    }
   ],
   "source": [
    "print(type(flexibility_example[0]))"
   ]
  },
  {
   "cell_type": "code",
   "execution_count": 6,
   "id": "387222d4",
   "metadata": {},
   "outputs": [
    {
     "name": "stdout",
     "output_type": "stream",
     "text": [
      "<class 'int'>\n",
      "<class 'float'>\n",
      "<class 'bool'>\n"
     ]
    }
   ],
   "source": [
    "print(type(flexibility_example[1]))\n",
    "print(type(flexibility_example[2]))\n",
    "print(type(flexibility_example[3]))"
   ]
  },
  {
   "cell_type": "code",
   "execution_count": 7,
   "id": "7639a4d6",
   "metadata": {},
   "outputs": [
    {
     "data": {
      "text/plain": [
       "0    <built-in function sum>\n",
       "1             <class 'type'>\n",
       "2    <built-in function min>\n",
       "dtype: object"
      ]
     },
     "execution_count": 7,
     "metadata": {},
     "output_type": "execute_result"
    }
   ],
   "source": [
    "pd.Series([sum, type, min])"
   ]
  },
  {
   "cell_type": "code",
   "execution_count": null,
   "id": "f352f40d",
   "metadata": {},
   "outputs": [],
   "source": []
  }
 ],
 "metadata": {
  "kernelspec": {
   "display_name": "Python 3 (ipykernel)",
   "language": "python",
   "name": "python3"
  },
  "language_info": {
   "codemirror_mode": {
    "name": "ipython",
    "version": 3
   },
   "file_extension": ".py",
   "mimetype": "text/x-python",
   "name": "python",
   "nbconvert_exporter": "python",
   "pygments_lexer": "ipython3",
   "version": "3.11.5"
  }
 },
 "nbformat": 4,
 "nbformat_minor": 5
}
