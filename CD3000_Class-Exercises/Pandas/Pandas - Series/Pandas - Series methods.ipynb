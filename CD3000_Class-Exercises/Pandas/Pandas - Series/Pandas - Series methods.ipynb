{
 "cells": [
  {
   "cell_type": "markdown",
   "id": "d948291f",
   "metadata": {},
   "source": [
    "# Methods in a Pandas Series"
   ]
  },
  {
   "cell_type": "code",
   "execution_count": 1,
   "id": "b45bb30f",
   "metadata": {},
   "outputs": [],
   "source": [
    "import pandas as pd"
   ]
  },
  {
   "cell_type": "code",
   "execution_count": 2,
   "id": "6e8826a1",
   "metadata": {},
   "outputs": [
    {
     "data": {
      "text/plain": [
       "b    8\n",
       "d    3\n",
       "c    6\n",
       "a    5\n",
       "e    1\n",
       "dtype: int64"
      ]
     },
     "execution_count": 2,
     "metadata": {},
     "output_type": "execute_result"
    }
   ],
   "source": [
    "applied_example = pd.Series([8,3,6,5,1], index=['b', 'd','c','a','e'])\n",
    "applied_example"
   ]
  },
  {
   "cell_type": "code",
   "execution_count": 3,
   "id": "5ef3d55b",
   "metadata": {},
   "outputs": [
    {
     "data": {
      "text/plain": [
       "a    5\n",
       "b    8\n",
       "c    6\n",
       "d    3\n",
       "e    1\n",
       "dtype: int64"
      ]
     },
     "execution_count": 3,
     "metadata": {},
     "output_type": "execute_result"
    }
   ],
   "source": [
    "applied_example.sort_index()"
   ]
  },
  {
   "cell_type": "code",
   "execution_count": 4,
   "id": "f90fcc5b",
   "metadata": {},
   "outputs": [
    {
     "data": {
      "text/plain": [
       "e    1\n",
       "d    3\n",
       "a    5\n",
       "c    6\n",
       "b    8\n",
       "dtype: int64"
      ]
     },
     "execution_count": 4,
     "metadata": {},
     "output_type": "execute_result"
    }
   ],
   "source": [
    "applied_example.sort_values()"
   ]
  },
  {
   "cell_type": "code",
   "execution_count": 5,
   "id": "148eb0a7",
   "metadata": {},
   "outputs": [],
   "source": [
    "flex_example = pd.Series(['cna', 100, 2.8, True])"
   ]
  },
  {
   "cell_type": "code",
   "execution_count": 6,
   "id": "977e6fb7",
   "metadata": {},
   "outputs": [
    {
     "data": {
      "text/plain": [
       "0     cna\n",
       "1     100\n",
       "2     2.8\n",
       "3    True\n",
       "dtype: object"
      ]
     },
     "execution_count": 6,
     "metadata": {},
     "output_type": "execute_result"
    }
   ],
   "source": [
    "flex_example.sort_index()"
   ]
  },
  {
   "cell_type": "code",
   "execution_count": 7,
   "id": "db00d351",
   "metadata": {},
   "outputs": [
    {
     "ename": "TypeError",
     "evalue": "'<' not supported between instances of 'int' and 'str'",
     "output_type": "error",
     "traceback": [
      "\u001b[1;31m---------------------------------------------------------------------------\u001b[0m",
      "\u001b[1;31mTypeError\u001b[0m                                 Traceback (most recent call last)",
      "Cell \u001b[1;32mIn[7], line 1\u001b[0m\n\u001b[1;32m----> 1\u001b[0m flex_example\u001b[38;5;241m.\u001b[39msort_values()\n",
      "File \u001b[1;32m~\\AppData\\Local\\anaconda3\\Lib\\site-packages\\pandas\\core\\series.py:3634\u001b[0m, in \u001b[0;36mSeries.sort_values\u001b[1;34m(self, axis, ascending, inplace, kind, na_position, ignore_index, key)\u001b[0m\n\u001b[0;32m   3632\u001b[0m \u001b[38;5;66;03m# GH 35922. Make sorting stable by leveraging nargsort\u001b[39;00m\n\u001b[0;32m   3633\u001b[0m values_to_sort \u001b[38;5;241m=\u001b[39m ensure_key_mapped(\u001b[38;5;28mself\u001b[39m, key)\u001b[38;5;241m.\u001b[39m_values \u001b[38;5;28;01mif\u001b[39;00m key \u001b[38;5;28;01melse\u001b[39;00m \u001b[38;5;28mself\u001b[39m\u001b[38;5;241m.\u001b[39m_values\n\u001b[1;32m-> 3634\u001b[0m sorted_index \u001b[38;5;241m=\u001b[39m nargsort(values_to_sort, kind, \u001b[38;5;28mbool\u001b[39m(ascending), na_position)\n\u001b[0;32m   3636\u001b[0m \u001b[38;5;28;01mif\u001b[39;00m is_range_indexer(sorted_index, \u001b[38;5;28mlen\u001b[39m(sorted_index)):\n\u001b[0;32m   3637\u001b[0m     \u001b[38;5;28;01mif\u001b[39;00m inplace:\n",
      "File \u001b[1;32m~\\AppData\\Local\\anaconda3\\Lib\\site-packages\\pandas\\core\\sorting.py:429\u001b[0m, in \u001b[0;36mnargsort\u001b[1;34m(items, kind, ascending, na_position, key, mask)\u001b[0m\n\u001b[0;32m    427\u001b[0m     non_nans \u001b[38;5;241m=\u001b[39m non_nans[::\u001b[38;5;241m-\u001b[39m\u001b[38;5;241m1\u001b[39m]\n\u001b[0;32m    428\u001b[0m     non_nan_idx \u001b[38;5;241m=\u001b[39m non_nan_idx[::\u001b[38;5;241m-\u001b[39m\u001b[38;5;241m1\u001b[39m]\n\u001b[1;32m--> 429\u001b[0m indexer \u001b[38;5;241m=\u001b[39m non_nan_idx[non_nans\u001b[38;5;241m.\u001b[39margsort(kind\u001b[38;5;241m=\u001b[39mkind)]\n\u001b[0;32m    430\u001b[0m \u001b[38;5;28;01mif\u001b[39;00m \u001b[38;5;129;01mnot\u001b[39;00m ascending:\n\u001b[0;32m    431\u001b[0m     indexer \u001b[38;5;241m=\u001b[39m indexer[::\u001b[38;5;241m-\u001b[39m\u001b[38;5;241m1\u001b[39m]\n",
      "\u001b[1;31mTypeError\u001b[0m: '<' not supported between instances of 'int' and 'str'"
     ]
    }
   ],
   "source": [
    "flex_example.sort_values()"
   ]
  },
  {
   "cell_type": "code",
   "execution_count": 8,
   "id": "41d25e27",
   "metadata": {},
   "outputs": [
    {
     "data": {
      "text/plain": [
       "b    8\n",
       "d    3\n",
       "c    6\n",
       "a    5\n",
       "e    1\n",
       "dtype: int64"
      ]
     },
     "execution_count": 8,
     "metadata": {},
     "output_type": "execute_result"
    }
   ],
   "source": [
    "applied_example"
   ]
  },
  {
   "cell_type": "code",
   "execution_count": 9,
   "id": "43059302",
   "metadata": {},
   "outputs": [
    {
     "data": {
      "text/plain": [
       "b    False\n",
       "d     True\n",
       "c    False\n",
       "a     True\n",
       "e    False\n",
       "dtype: bool"
      ]
     },
     "execution_count": 9,
     "metadata": {},
     "output_type": "execute_result"
    }
   ],
   "source": [
    "applied_example.isin([3,5])"
   ]
  },
  {
   "cell_type": "code",
   "execution_count": 11,
   "id": "8bae1c0d",
   "metadata": {},
   "outputs": [
    {
     "data": {
      "text/plain": [
       "d    3\n",
       "a    5\n",
       "dtype: int64"
      ]
     },
     "execution_count": 11,
     "metadata": {},
     "output_type": "execute_result"
    }
   ],
   "source": [
    "applied_example[applied_example.isin([3,5])]"
   ]
  },
  {
   "cell_type": "code",
   "execution_count": 12,
   "id": "034561fe",
   "metadata": {},
   "outputs": [
    {
     "data": {
      "text/plain": [
       "array([8, 3, 6, 5, 1], dtype=int64)"
      ]
     },
     "execution_count": 12,
     "metadata": {},
     "output_type": "execute_result"
    }
   ],
   "source": [
    "applied_example.values"
   ]
  },
  {
   "cell_type": "code",
   "execution_count": 13,
   "id": "873e5689",
   "metadata": {},
   "outputs": [
    {
     "data": {
      "text/plain": [
       "[8, 3, 6, 5, 1]"
      ]
     },
     "execution_count": 13,
     "metadata": {},
     "output_type": "execute_result"
    }
   ],
   "source": [
    "[i for i in applied_example.values]"
   ]
  },
  {
   "cell_type": "code",
   "execution_count": 14,
   "id": "d700932a",
   "metadata": {},
   "outputs": [
    {
     "data": {
      "text/plain": [
       "Index(['b', 'd', 'c', 'a', 'e'], dtype='object')"
      ]
     },
     "execution_count": 14,
     "metadata": {},
     "output_type": "execute_result"
    }
   ],
   "source": [
    "applied_example.index"
   ]
  },
  {
   "cell_type": "code",
   "execution_count": 15,
   "id": "ac495047",
   "metadata": {},
   "outputs": [
    {
     "data": {
      "text/plain": [
       "['b', 'd', 'c', 'a', 'e']"
      ]
     },
     "execution_count": 15,
     "metadata": {},
     "output_type": "execute_result"
    }
   ],
   "source": [
    "[i for i in applied_example.index]"
   ]
  },
  {
   "cell_type": "code",
   "execution_count": 16,
   "id": "865413c5",
   "metadata": {},
   "outputs": [
    {
     "data": {
      "text/plain": [
       "<zip at 0x21b942e3fc0>"
      ]
     },
     "execution_count": 16,
     "metadata": {},
     "output_type": "execute_result"
    }
   ],
   "source": [
    "applied_example.items()"
   ]
  },
  {
   "cell_type": "code",
   "execution_count": 17,
   "id": "834d658e",
   "metadata": {},
   "outputs": [
    {
     "data": {
      "text/plain": [
       "[('b', 8), ('d', 3), ('c', 6), ('a', 5), ('e', 1)]"
      ]
     },
     "execution_count": 17,
     "metadata": {},
     "output_type": "execute_result"
    }
   ],
   "source": [
    "list(applied_example.items())"
   ]
  },
  {
   "cell_type": "code",
   "execution_count": 19,
   "id": "13692af1",
   "metadata": {},
   "outputs": [
    {
     "name": "stdout",
     "output_type": "stream",
     "text": [
      "b - 8\n",
      "d - 3\n",
      "c - 6\n",
      "a - 5\n",
      "e - 1\n"
     ]
    }
   ],
   "source": [
    "for indx, val in applied_example.items():\n",
    "    print(indx, '-', val)"
   ]
  },
  {
   "cell_type": "code",
   "execution_count": null,
   "id": "3f60505b",
   "metadata": {},
   "outputs": [],
   "source": []
  }
 ],
 "metadata": {
  "kernelspec": {
   "display_name": "Python 3 (ipykernel)",
   "language": "python",
   "name": "python3"
  },
  "language_info": {
   "codemirror_mode": {
    "name": "ipython",
    "version": 3
   },
   "file_extension": ".py",
   "mimetype": "text/x-python",
   "name": "python",
   "nbconvert_exporter": "python",
   "pygments_lexer": "ipython3",
   "version": "3.11.5"
  }
 },
 "nbformat": 4,
 "nbformat_minor": 5
}
