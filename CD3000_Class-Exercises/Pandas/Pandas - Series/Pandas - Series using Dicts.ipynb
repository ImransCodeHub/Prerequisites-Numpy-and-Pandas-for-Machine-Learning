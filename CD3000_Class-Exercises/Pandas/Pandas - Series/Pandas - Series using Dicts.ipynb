{
 "cells": [
  {
   "cell_type": "markdown",
   "id": "fee38fe1",
   "metadata": {},
   "source": [
    "# Pandas - Series using Dicts"
   ]
  },
  {
   "cell_type": "code",
   "execution_count": 1,
   "id": "97b84ccd",
   "metadata": {},
   "outputs": [],
   "source": [
    "import pandas as pd"
   ]
  },
  {
   "cell_type": "code",
   "execution_count": 2,
   "id": "1964bd75",
   "metadata": {},
   "outputs": [
    {
     "data": {
      "text/plain": [
       "{'bmw': 333.3, 'porsche': 336.8, 'maserati': 358}"
      ]
     },
     "execution_count": 2,
     "metadata": {},
     "output_type": "execute_result"
    }
   ],
   "source": [
    "example_dictionary = {'bmw':333.3, 'porsche':336.8, 'maserati':358}\n",
    "example_dictionary"
   ]
  },
  {
   "cell_type": "code",
   "execution_count": 3,
   "id": "c60d8135",
   "metadata": {},
   "outputs": [
    {
     "data": {
      "text/plain": [
       "bmw         333.3\n",
       "porsche     336.8\n",
       "maserati    358.0\n",
       "dtype: float64"
      ]
     },
     "execution_count": 3,
     "metadata": {},
     "output_type": "execute_result"
    }
   ],
   "source": [
    "pd.Series(data=example_dictionary)"
   ]
  },
  {
   "cell_type": "code",
   "execution_count": 5,
   "id": "1d661873",
   "metadata": {},
   "outputs": [],
   "source": [
    "test_variable = pd.Series(data=example_dictionary, index = ['maserati', 'bmw', 'lambo'])"
   ]
  },
  {
   "cell_type": "code",
   "execution_count": 6,
   "id": "45a3e230",
   "metadata": {},
   "outputs": [
    {
     "data": {
      "text/plain": [
       "maserati    358.0\n",
       "bmw         333.3\n",
       "lambo         NaN\n",
       "dtype: float64"
      ]
     },
     "execution_count": 6,
     "metadata": {},
     "output_type": "execute_result"
    }
   ],
   "source": [
    "test_variable"
   ]
  },
  {
   "cell_type": "code",
   "execution_count": null,
   "id": "57adef6b",
   "metadata": {},
   "outputs": [],
   "source": []
  }
 ],
 "metadata": {
  "kernelspec": {
   "display_name": "Python 3 (ipykernel)",
   "language": "python",
   "name": "python3"
  },
  "language_info": {
   "codemirror_mode": {
    "name": "ipython",
    "version": 3
   },
   "file_extension": ".py",
   "mimetype": "text/x-python",
   "name": "python",
   "nbconvert_exporter": "python",
   "pygments_lexer": "ipython3",
   "version": "3.11.5"
  }
 },
 "nbformat": 4,
 "nbformat_minor": 5
}
