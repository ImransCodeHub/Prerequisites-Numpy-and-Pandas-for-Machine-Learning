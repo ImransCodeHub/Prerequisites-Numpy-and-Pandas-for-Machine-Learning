{
 "cells": [
  {
   "cell_type": "markdown",
   "id": "e319b87d",
   "metadata": {},
   "source": [
    "# Indexing and Slicing in Pandas Series"
   ]
  },
  {
   "cell_type": "code",
   "execution_count": 1,
   "id": "02a8eb70",
   "metadata": {},
   "outputs": [],
   "source": [
    "import pandas as pd"
   ]
  },
  {
   "cell_type": "code",
   "execution_count": 2,
   "id": "ccdddb5c",
   "metadata": {},
   "outputs": [
    {
     "data": {
      "text/plain": [
       "India      +91\n",
       "Germany    +49\n",
       "France     +33\n",
       "Italy      +46\n",
       "Canada      +1\n",
       "dtype: object"
      ]
     },
     "execution_count": 2,
     "metadata": {},
     "output_type": "execute_result"
    }
   ],
   "source": [
    "index_slice_example = pd.Series(['+91', '+49', '+33', '+46', '+1'], index = ['India', 'Germany', 'France', 'Italy', 'Canada'])\n",
    "index_slice_example"
   ]
  },
  {
   "cell_type": "code",
   "execution_count": 3,
   "id": "ddc966c7",
   "metadata": {},
   "outputs": [
    {
     "data": {
      "text/plain": [
       "'+91'"
      ]
     },
     "execution_count": 3,
     "metadata": {},
     "output_type": "execute_result"
    }
   ],
   "source": [
    "index_slice_example['India']"
   ]
  },
  {
   "cell_type": "code",
   "execution_count": 4,
   "id": "4cf2c8bf",
   "metadata": {},
   "outputs": [
    {
     "data": {
      "text/plain": [
       "'+91'"
      ]
     },
     "execution_count": 4,
     "metadata": {},
     "output_type": "execute_result"
    }
   ],
   "source": [
    "index_slice_example[0]"
   ]
  },
  {
   "cell_type": "code",
   "execution_count": 5,
   "id": "568f2402",
   "metadata": {},
   "outputs": [
    {
     "data": {
      "text/plain": [
       "Germany    +49\n",
       "France     +33\n",
       "Italy      +46\n",
       "dtype: object"
      ]
     },
     "execution_count": 5,
     "metadata": {},
     "output_type": "execute_result"
    }
   ],
   "source": [
    "index_slice_example['Germany':'Italy']"
   ]
  },
  {
   "cell_type": "code",
   "execution_count": 7,
   "id": "e0c2bce0",
   "metadata": {},
   "outputs": [
    {
     "data": {
      "text/plain": [
       "Germany    +49\n",
       "France     +33\n",
       "Italy      +46\n",
       "dtype: object"
      ]
     },
     "execution_count": 7,
     "metadata": {},
     "output_type": "execute_result"
    }
   ],
   "source": [
    "index_slice_example[1:4]"
   ]
  },
  {
   "cell_type": "code",
   "execution_count": 9,
   "id": "df21aab3",
   "metadata": {},
   "outputs": [
    {
     "data": {
      "text/plain": [
       "Germany    +49\n",
       "Italy      +46\n",
       "dtype: object"
      ]
     },
     "execution_count": 9,
     "metadata": {},
     "output_type": "execute_result"
    }
   ],
   "source": [
    "index_slice_example[1:5:2]"
   ]
  },
  {
   "cell_type": "code",
   "execution_count": 10,
   "id": "dee504a5",
   "metadata": {},
   "outputs": [
    {
     "data": {
      "text/plain": [
       "Series([], dtype: object)"
      ]
     },
     "execution_count": 10,
     "metadata": {},
     "output_type": "execute_result"
    }
   ],
   "source": [
    "index_slice_example[1:5:-1]"
   ]
  },
  {
   "cell_type": "code",
   "execution_count": 11,
   "id": "fd7f7a0f",
   "metadata": {},
   "outputs": [
    {
     "data": {
      "text/plain": [
       "Canada     +1\n",
       "Italy     +46\n",
       "France    +33\n",
       "dtype: object"
      ]
     },
     "execution_count": 11,
     "metadata": {},
     "output_type": "execute_result"
    }
   ],
   "source": [
    "index_slice_example[5:1:-1]"
   ]
  },
  {
   "cell_type": "code",
   "execution_count": null,
   "id": "10789fe4",
   "metadata": {},
   "outputs": [],
   "source": []
  }
 ],
 "metadata": {
  "kernelspec": {
   "display_name": "Python 3 (ipykernel)",
   "language": "python",
   "name": "python3"
  },
  "language_info": {
   "codemirror_mode": {
    "name": "ipython",
    "version": 3
   },
   "file_extension": ".py",
   "mimetype": "text/x-python",
   "name": "python",
   "nbconvert_exporter": "python",
   "pygments_lexer": "ipython3",
   "version": "3.11.5"
  }
 },
 "nbformat": 4,
 "nbformat_minor": 5
}
