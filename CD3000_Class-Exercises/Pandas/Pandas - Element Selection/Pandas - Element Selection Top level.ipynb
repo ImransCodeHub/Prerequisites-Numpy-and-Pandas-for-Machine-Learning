{
 "cells": [
  {
   "cell_type": "markdown",
   "id": "38446c22",
   "metadata": {},
   "source": [
    "# Pandas Element Selection loc and iloc"
   ]
  },
  {
   "cell_type": "code",
   "execution_count": 1,
   "id": "e34b0836",
   "metadata": {},
   "outputs": [],
   "source": [
    "import pandas as pd\n",
    "import numpy as np\n",
    "\n",
    "np.random.seed(88)"
   ]
  },
  {
   "cell_type": "code",
   "execution_count": 3,
   "id": "14b219b3",
   "metadata": {},
   "outputs": [
    {
     "data": {
      "text/html": [
       "<div>\n",
       "<style scoped>\n",
       "    .dataframe tbody tr th:only-of-type {\n",
       "        vertical-align: middle;\n",
       "    }\n",
       "\n",
       "    .dataframe tbody tr th {\n",
       "        vertical-align: top;\n",
       "    }\n",
       "\n",
       "    .dataframe thead th {\n",
       "        text-align: right;\n",
       "    }\n",
       "</style>\n",
       "<table border=\"1\" class=\"dataframe\">\n",
       "  <thead>\n",
       "    <tr style=\"text-align: right;\">\n",
       "      <th></th>\n",
       "      <th>VALUE1</th>\n",
       "      <th>VALUE2</th>\n",
       "      <th>VALUE3</th>\n",
       "      <th>VALUE4</th>\n",
       "      <th>VALUE5</th>\n",
       "    </tr>\n",
       "  </thead>\n",
       "  <tbody>\n",
       "    <tr>\n",
       "      <th>A</th>\n",
       "      <td>-1.419523</td>\n",
       "      <td>0.312229</td>\n",
       "      <td>-1.282849</td>\n",
       "      <td>0.160704</td>\n",
       "      <td>0.454525</td>\n",
       "    </tr>\n",
       "    <tr>\n",
       "      <th>B</th>\n",
       "      <td>-0.707391</td>\n",
       "      <td>0.493811</td>\n",
       "      <td>0.137946</td>\n",
       "      <td>-0.272587</td>\n",
       "      <td>0.820660</td>\n",
       "    </tr>\n",
       "    <tr>\n",
       "      <th>C</th>\n",
       "      <td>0.027164</td>\n",
       "      <td>0.782549</td>\n",
       "      <td>0.101352</td>\n",
       "      <td>0.647331</td>\n",
       "      <td>-0.336499</td>\n",
       "    </tr>\n",
       "    <tr>\n",
       "      <th>D</th>\n",
       "      <td>-0.805200</td>\n",
       "      <td>1.414704</td>\n",
       "      <td>-1.243236</td>\n",
       "      <td>-1.057594</td>\n",
       "      <td>0.381915</td>\n",
       "    </tr>\n",
       "    <tr>\n",
       "      <th>E</th>\n",
       "      <td>0.242662</td>\n",
       "      <td>-0.524589</td>\n",
       "      <td>-0.653479</td>\n",
       "      <td>-1.555315</td>\n",
       "      <td>0.001241</td>\n",
       "    </tr>\n",
       "    <tr>\n",
       "      <th>F</th>\n",
       "      <td>0.150090</td>\n",
       "      <td>-0.177472</td>\n",
       "      <td>0.542897</td>\n",
       "      <td>-0.664550</td>\n",
       "      <td>-0.349174</td>\n",
       "    </tr>\n",
       "    <tr>\n",
       "      <th>H</th>\n",
       "      <td>0.398605</td>\n",
       "      <td>-0.040033</td>\n",
       "      <td>-0.507078</td>\n",
       "      <td>-0.035781</td>\n",
       "      <td>-0.158569</td>\n",
       "    </tr>\n",
       "    <tr>\n",
       "      <th>I</th>\n",
       "      <td>0.052405</td>\n",
       "      <td>-0.223510</td>\n",
       "      <td>-0.605993</td>\n",
       "      <td>-0.794303</td>\n",
       "      <td>-0.073485</td>\n",
       "    </tr>\n",
       "    <tr>\n",
       "      <th>J</th>\n",
       "      <td>0.520230</td>\n",
       "      <td>1.159139</td>\n",
       "      <td>1.306283</td>\n",
       "      <td>1.127373</td>\n",
       "      <td>1.089063</td>\n",
       "    </tr>\n",
       "    <tr>\n",
       "      <th>K</th>\n",
       "      <td>-0.605494</td>\n",
       "      <td>-0.042648</td>\n",
       "      <td>1.105871</td>\n",
       "      <td>0.189226</td>\n",
       "      <td>0.739139</td>\n",
       "    </tr>\n",
       "  </tbody>\n",
       "</table>\n",
       "</div>"
      ],
      "text/plain": [
       "     VALUE1    VALUE2    VALUE3    VALUE4    VALUE5\n",
       "A -1.419523  0.312229 -1.282849  0.160704  0.454525\n",
       "B -0.707391  0.493811  0.137946 -0.272587  0.820660\n",
       "C  0.027164  0.782549  0.101352  0.647331 -0.336499\n",
       "D -0.805200  1.414704 -1.243236 -1.057594  0.381915\n",
       "E  0.242662 -0.524589 -0.653479 -1.555315  0.001241\n",
       "F  0.150090 -0.177472  0.542897 -0.664550 -0.349174\n",
       "H  0.398605 -0.040033 -0.507078 -0.035781 -0.158569\n",
       "I  0.052405 -0.223510 -0.605993 -0.794303 -0.073485\n",
       "J  0.520230  1.159139  1.306283  1.127373  1.089063\n",
       "K -0.605494 -0.042648  1.105871  0.189226  0.739139"
      ]
     },
     "execution_count": 3,
     "metadata": {},
     "output_type": "execute_result"
    }
   ],
   "source": [
    "df = pd.DataFrame(data=np.random.randn(10, 5), index = 'A B C D E F H I J K'.split(), columns = 'VALUE1 VALUE2 VALUE3 VALUE4 VALUE5'.split())\n",
    "df"
   ]
  },
  {
   "cell_type": "code",
   "execution_count": 4,
   "id": "ca891045",
   "metadata": {},
   "outputs": [
    {
     "data": {
      "text/html": [
       "<div>\n",
       "<style scoped>\n",
       "    .dataframe tbody tr th:only-of-type {\n",
       "        vertical-align: middle;\n",
       "    }\n",
       "\n",
       "    .dataframe tbody tr th {\n",
       "        vertical-align: top;\n",
       "    }\n",
       "\n",
       "    .dataframe thead th {\n",
       "        text-align: right;\n",
       "    }\n",
       "</style>\n",
       "<table border=\"1\" class=\"dataframe\">\n",
       "  <thead>\n",
       "    <tr style=\"text-align: right;\">\n",
       "      <th></th>\n",
       "      <th>VALUE1</th>\n",
       "      <th>VALUE2</th>\n",
       "      <th>VALUE3</th>\n",
       "      <th>VALUE4</th>\n",
       "      <th>VALUE5</th>\n",
       "    </tr>\n",
       "  </thead>\n",
       "  <tbody>\n",
       "    <tr>\n",
       "      <th>A</th>\n",
       "      <td>-1.419523</td>\n",
       "      <td>0.312229</td>\n",
       "      <td>-1.282849</td>\n",
       "      <td>0.160704</td>\n",
       "      <td>0.454525</td>\n",
       "    </tr>\n",
       "    <tr>\n",
       "      <th>B</th>\n",
       "      <td>-0.707391</td>\n",
       "      <td>0.493811</td>\n",
       "      <td>0.137946</td>\n",
       "      <td>-0.272587</td>\n",
       "      <td>0.820660</td>\n",
       "    </tr>\n",
       "    <tr>\n",
       "      <th>C</th>\n",
       "      <td>0.027164</td>\n",
       "      <td>0.782549</td>\n",
       "      <td>0.101352</td>\n",
       "      <td>0.647331</td>\n",
       "      <td>-0.336499</td>\n",
       "    </tr>\n",
       "    <tr>\n",
       "      <th>D</th>\n",
       "      <td>-0.805200</td>\n",
       "      <td>1.414704</td>\n",
       "      <td>-1.243236</td>\n",
       "      <td>-1.057594</td>\n",
       "      <td>0.381915</td>\n",
       "    </tr>\n",
       "  </tbody>\n",
       "</table>\n",
       "</div>"
      ],
      "text/plain": [
       "     VALUE1    VALUE2    VALUE3    VALUE4    VALUE5\n",
       "A -1.419523  0.312229 -1.282849  0.160704  0.454525\n",
       "B -0.707391  0.493811  0.137946 -0.272587  0.820660\n",
       "C  0.027164  0.782549  0.101352  0.647331 -0.336499\n",
       "D -0.805200  1.414704 -1.243236 -1.057594  0.381915"
      ]
     },
     "execution_count": 4,
     "metadata": {},
     "output_type": "execute_result"
    }
   ],
   "source": [
    "df.loc['A':'D']"
   ]
  },
  {
   "cell_type": "code",
   "execution_count": 5,
   "id": "74588363",
   "metadata": {},
   "outputs": [
    {
     "data": {
      "text/html": [
       "<div>\n",
       "<style scoped>\n",
       "    .dataframe tbody tr th:only-of-type {\n",
       "        vertical-align: middle;\n",
       "    }\n",
       "\n",
       "    .dataframe tbody tr th {\n",
       "        vertical-align: top;\n",
       "    }\n",
       "\n",
       "    .dataframe thead th {\n",
       "        text-align: right;\n",
       "    }\n",
       "</style>\n",
       "<table border=\"1\" class=\"dataframe\">\n",
       "  <thead>\n",
       "    <tr style=\"text-align: right;\">\n",
       "      <th></th>\n",
       "      <th>VALUE1</th>\n",
       "      <th>VALUE2</th>\n",
       "      <th>VALUE3</th>\n",
       "      <th>VALUE4</th>\n",
       "      <th>VALUE5</th>\n",
       "    </tr>\n",
       "  </thead>\n",
       "  <tbody>\n",
       "    <tr>\n",
       "      <th>A</th>\n",
       "      <td>-1.419523</td>\n",
       "      <td>0.312229</td>\n",
       "      <td>-1.282849</td>\n",
       "      <td>0.160704</td>\n",
       "      <td>0.454525</td>\n",
       "    </tr>\n",
       "    <tr>\n",
       "      <th>B</th>\n",
       "      <td>-0.707391</td>\n",
       "      <td>0.493811</td>\n",
       "      <td>0.137946</td>\n",
       "      <td>-0.272587</td>\n",
       "      <td>0.820660</td>\n",
       "    </tr>\n",
       "    <tr>\n",
       "      <th>C</th>\n",
       "      <td>0.027164</td>\n",
       "      <td>0.782549</td>\n",
       "      <td>0.101352</td>\n",
       "      <td>0.647331</td>\n",
       "      <td>-0.336499</td>\n",
       "    </tr>\n",
       "    <tr>\n",
       "      <th>D</th>\n",
       "      <td>-0.805200</td>\n",
       "      <td>1.414704</td>\n",
       "      <td>-1.243236</td>\n",
       "      <td>-1.057594</td>\n",
       "      <td>0.381915</td>\n",
       "    </tr>\n",
       "  </tbody>\n",
       "</table>\n",
       "</div>"
      ],
      "text/plain": [
       "     VALUE1    VALUE2    VALUE3    VALUE4    VALUE5\n",
       "A -1.419523  0.312229 -1.282849  0.160704  0.454525\n",
       "B -0.707391  0.493811  0.137946 -0.272587  0.820660\n",
       "C  0.027164  0.782549  0.101352  0.647331 -0.336499\n",
       "D -0.805200  1.414704 -1.243236 -1.057594  0.381915"
      ]
     },
     "execution_count": 5,
     "metadata": {},
     "output_type": "execute_result"
    }
   ],
   "source": [
    "df.iloc[0:4]"
   ]
  },
  {
   "cell_type": "code",
   "execution_count": 6,
   "id": "e1293894",
   "metadata": {},
   "outputs": [
    {
     "data": {
      "text/plain": [
       "0.6473309860968571"
      ]
     },
     "execution_count": 6,
     "metadata": {},
     "output_type": "execute_result"
    }
   ],
   "source": [
    "df.loc['C', 'VALUE4']"
   ]
  },
  {
   "cell_type": "code",
   "execution_count": 7,
   "id": "2213c74f",
   "metadata": {},
   "outputs": [
    {
     "data": {
      "text/plain": [
       "0.6473309860968571"
      ]
     },
     "execution_count": 7,
     "metadata": {},
     "output_type": "execute_result"
    }
   ],
   "source": [
    "df.iloc[2, 3]"
   ]
  },
  {
   "cell_type": "code",
   "execution_count": null,
   "id": "a61f98e8",
   "metadata": {},
   "outputs": [],
   "source": []
  }
 ],
 "metadata": {
  "kernelspec": {
   "display_name": "Python 3 (ipykernel)",
   "language": "python",
   "name": "python3"
  },
  "language_info": {
   "codemirror_mode": {
    "name": "ipython",
    "version": 3
   },
   "file_extension": ".py",
   "mimetype": "text/x-python",
   "name": "python",
   "nbconvert_exporter": "python",
   "pygments_lexer": "ipython3",
   "version": "3.11.5"
  }
 },
 "nbformat": 4,
 "nbformat_minor": 5
}
