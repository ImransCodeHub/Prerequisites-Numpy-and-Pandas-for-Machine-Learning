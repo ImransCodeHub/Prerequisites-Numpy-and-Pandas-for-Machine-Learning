{
 "cells": [
  {
   "cell_type": "markdown",
   "id": "7cebeb7e",
   "metadata": {},
   "source": [
    "# Solving Equations with Numpy"
   ]
  },
  {
   "cell_type": "markdown",
   "id": "462430e7",
   "metadata": {},
   "source": [
    "2x + 4y = 14, 4x - 4y = 4\n",
    "Solve: x = 3, y = 2"
   ]
  },
  {
   "cell_type": "code",
   "execution_count": 1,
   "id": "747e1874",
   "metadata": {},
   "outputs": [],
   "source": [
    "import numpy as np"
   ]
  },
  {
   "cell_type": "code",
   "execution_count": 3,
   "id": "ccf22213",
   "metadata": {},
   "outputs": [
    {
     "data": {
      "text/plain": [
       "array([[ 2,  4],\n",
       "       [ 4, -4]])"
      ]
     },
     "execution_count": 3,
     "metadata": {},
     "output_type": "execute_result"
    }
   ],
   "source": [
    "coefficient = np.array([[2, 4], [4, -4]])\n",
    "coefficient"
   ]
  },
  {
   "cell_type": "code",
   "execution_count": 4,
   "id": "3f528b07",
   "metadata": {},
   "outputs": [
    {
     "data": {
      "text/plain": [
       "array([14,  4])"
      ]
     },
     "execution_count": 4,
     "metadata": {},
     "output_type": "execute_result"
    }
   ],
   "source": [
    "output = np.array([14,4])\n",
    "output"
   ]
  },
  {
   "cell_type": "code",
   "execution_count": 5,
   "id": "950a407a",
   "metadata": {},
   "outputs": [
    {
     "data": {
      "text/plain": [
       "array([3., 2.])"
      ]
     },
     "execution_count": 5,
     "metadata": {},
     "output_type": "execute_result"
    }
   ],
   "source": [
    "np.linalg.solve(coefficient, output)"
   ]
  },
  {
   "cell_type": "code",
   "execution_count": null,
   "id": "69af3b87",
   "metadata": {},
   "outputs": [],
   "source": []
  }
 ],
 "metadata": {
  "kernelspec": {
   "display_name": "Python 3 (ipykernel)",
   "language": "python",
   "name": "python3"
  },
  "language_info": {
   "codemirror_mode": {
    "name": "ipython",
    "version": 3
   },
   "file_extension": ".py",
   "mimetype": "text/x-python",
   "name": "python",
   "nbconvert_exporter": "python",
   "pygments_lexer": "ipython3",
   "version": "3.11.5"
  }
 },
 "nbformat": 4,
 "nbformat_minor": 5
}
