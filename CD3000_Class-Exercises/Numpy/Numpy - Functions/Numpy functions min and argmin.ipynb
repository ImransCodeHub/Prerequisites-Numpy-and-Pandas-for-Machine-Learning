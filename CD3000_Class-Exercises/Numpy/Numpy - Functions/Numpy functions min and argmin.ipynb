{
 "cells": [
  {
   "cell_type": "markdown",
   "id": "4360f74e",
   "metadata": {},
   "source": [
    "# Numpy functions - min() and argmin()"
   ]
  },
  {
   "cell_type": "code",
   "execution_count": 1,
   "id": "0aa06c7a",
   "metadata": {},
   "outputs": [],
   "source": [
    "import numpy as np"
   ]
  },
  {
   "cell_type": "code",
   "execution_count": 2,
   "id": "a56aac54",
   "metadata": {},
   "outputs": [],
   "source": [
    "array = np.random.randint(0,50,6)"
   ]
  },
  {
   "cell_type": "code",
   "execution_count": 3,
   "id": "2af49e09",
   "metadata": {},
   "outputs": [
    {
     "data": {
      "text/plain": [
       "array([27, 42, 49, 23, 37, 36])"
      ]
     },
     "execution_count": 3,
     "metadata": {},
     "output_type": "execute_result"
    }
   ],
   "source": [
    "array"
   ]
  },
  {
   "cell_type": "code",
   "execution_count": 5,
   "id": "56dc7b91",
   "metadata": {},
   "outputs": [
    {
     "data": {
      "text/plain": [
       "23"
      ]
     },
     "execution_count": 5,
     "metadata": {},
     "output_type": "execute_result"
    }
   ],
   "source": [
    "array.min()"
   ]
  },
  {
   "cell_type": "code",
   "execution_count": 6,
   "id": "bc3bf6c4",
   "metadata": {},
   "outputs": [
    {
     "data": {
      "text/plain": [
       "3"
      ]
     },
     "execution_count": 6,
     "metadata": {},
     "output_type": "execute_result"
    }
   ],
   "source": [
    "array.argmin()"
   ]
  },
  {
   "cell_type": "code",
   "execution_count": 7,
   "id": "7bd9ac22",
   "metadata": {},
   "outputs": [
    {
     "data": {
      "text/plain": [
       "array([[31,  8,  8, 14, 32],\n",
       "       [ 5, 16,  6,  9, 43],\n",
       "       [12, 55, 58, 26, 38],\n",
       "       [23, 21, 39, 13, 10]])"
      ]
     },
     "execution_count": 7,
     "metadata": {},
     "output_type": "execute_result"
    }
   ],
   "source": [
    "array_two_dim = np.random.randint(0,60,(4,5))\n",
    "array_two_dim"
   ]
  },
  {
   "cell_type": "code",
   "execution_count": 8,
   "id": "f9c4b967",
   "metadata": {},
   "outputs": [
    {
     "data": {
      "text/plain": [
       "5"
      ]
     },
     "execution_count": 8,
     "metadata": {},
     "output_type": "execute_result"
    }
   ],
   "source": [
    "array_two_dim.min()"
   ]
  },
  {
   "cell_type": "code",
   "execution_count": 11,
   "id": "b48d07e5",
   "metadata": {},
   "outputs": [
    {
     "data": {
      "text/plain": [
       "5"
      ]
     },
     "execution_count": 11,
     "metadata": {},
     "output_type": "execute_result"
    }
   ],
   "source": [
    "array_two_dim.argmin()"
   ]
  },
  {
   "cell_type": "code",
   "execution_count": null,
   "id": "fabd6cbb",
   "metadata": {},
   "outputs": [],
   "source": []
  }
 ],
 "metadata": {
  "kernelspec": {
   "display_name": "Python 3 (ipykernel)",
   "language": "python",
   "name": "python3"
  },
  "language_info": {
   "codemirror_mode": {
    "name": "ipython",
    "version": 3
   },
   "file_extension": ".py",
   "mimetype": "text/x-python",
   "name": "python",
   "nbconvert_exporter": "python",
   "pygments_lexer": "ipython3",
   "version": "3.11.5"
  }
 },
 "nbformat": 4,
 "nbformat_minor": 5
}
