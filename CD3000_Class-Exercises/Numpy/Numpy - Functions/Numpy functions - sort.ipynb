{
 "cells": [
  {
   "cell_type": "markdown",
   "id": "586e274b",
   "metadata": {},
   "source": [
    "# Sorting with Numpy"
   ]
  },
  {
   "cell_type": "code",
   "execution_count": 1,
   "id": "5f47405f",
   "metadata": {},
   "outputs": [],
   "source": [
    "import numpy as np"
   ]
  },
  {
   "cell_type": "code",
   "execution_count": 2,
   "id": "25d97574",
   "metadata": {},
   "outputs": [
    {
     "data": {
      "text/plain": [
       "array([3, 8, 1, 5, 6, 4, 9])"
      ]
     },
     "execution_count": 2,
     "metadata": {},
     "output_type": "execute_result"
    }
   ],
   "source": [
    "variable = np.array([3,8,1,5,6,4,9])\n",
    "variable"
   ]
  },
  {
   "cell_type": "code",
   "execution_count": 3,
   "id": "18d4ae53",
   "metadata": {},
   "outputs": [
    {
     "data": {
      "text/plain": [
       "array([1, 3, 4, 5, 6, 8, 9])"
      ]
     },
     "execution_count": 3,
     "metadata": {},
     "output_type": "execute_result"
    }
   ],
   "source": [
    "np.sort(variable)"
   ]
  },
  {
   "cell_type": "code",
   "execution_count": 4,
   "id": "124b3b05",
   "metadata": {},
   "outputs": [
    {
     "data": {
      "text/plain": [
       "array([1, 3, 4, 5, 6, 8, 9])"
      ]
     },
     "execution_count": 4,
     "metadata": {},
     "output_type": "execute_result"
    }
   ],
   "source": [
    "variable2 = np.sort(variable)\n",
    "variable2"
   ]
  },
  {
   "cell_type": "code",
   "execution_count": 5,
   "id": "5afad63f",
   "metadata": {},
   "outputs": [
    {
     "data": {
      "text/plain": [
       "array([[32.71245431, 12.62878501, 30.55169546, 27.80525242],\n",
       "       [24.51868058, 28.74575209, 15.28325543,  7.01282263],\n",
       "       [19.38582747, 26.76204635, 23.55615692, 24.89133052],\n",
       "       [37.76282226, 38.96339045, 34.28222516, 28.16544217]])"
      ]
     },
     "execution_count": 5,
     "metadata": {},
     "output_type": "execute_result"
    }
   ],
   "source": [
    "variable_2dim = np.random.normal(30, 10, (4,4))\n",
    "variable_2dim"
   ]
  },
  {
   "cell_type": "code",
   "execution_count": 6,
   "id": "193999fd",
   "metadata": {},
   "outputs": [
    {
     "data": {
      "text/plain": [
       "array([[19.38582747, 12.62878501, 15.28325543,  7.01282263],\n",
       "       [24.51868058, 26.76204635, 23.55615692, 24.89133052],\n",
       "       [32.71245431, 28.74575209, 30.55169546, 27.80525242],\n",
       "       [37.76282226, 38.96339045, 34.28222516, 28.16544217]])"
      ]
     },
     "execution_count": 6,
     "metadata": {},
     "output_type": "execute_result"
    }
   ],
   "source": [
    "sorted_2d = np.sort(variable_2dim, axis=0)\n",
    "sorted_2d"
   ]
  },
  {
   "cell_type": "code",
   "execution_count": 8,
   "id": "bedbb2e7",
   "metadata": {},
   "outputs": [
    {
     "data": {
      "text/plain": [
       "array([[12.62878501, 27.80525242, 30.55169546, 32.71245431],\n",
       "       [ 7.01282263, 15.28325543, 24.51868058, 28.74575209],\n",
       "       [19.38582747, 23.55615692, 24.89133052, 26.76204635],\n",
       "       [28.16544217, 34.28222516, 37.76282226, 38.96339045]])"
      ]
     },
     "execution_count": 8,
     "metadata": {},
     "output_type": "execute_result"
    }
   ],
   "source": [
    "orted_2d = np.sort(variable_2dim, axis=1)\n",
    "orted_2d"
   ]
  },
  {
   "cell_type": "code",
   "execution_count": null,
   "id": "75715976",
   "metadata": {},
   "outputs": [],
   "source": []
  }
 ],
 "metadata": {
  "kernelspec": {
   "display_name": "Python 3 (ipykernel)",
   "language": "python",
   "name": "python3"
  },
  "language_info": {
   "codemirror_mode": {
    "name": "ipython",
    "version": 3
   },
   "file_extension": ".py",
   "mimetype": "text/x-python",
   "name": "python",
   "nbconvert_exporter": "python",
   "pygments_lexer": "ipython3",
   "version": "3.11.5"
  }
 },
 "nbformat": 4,
 "nbformat_minor": 5
}
