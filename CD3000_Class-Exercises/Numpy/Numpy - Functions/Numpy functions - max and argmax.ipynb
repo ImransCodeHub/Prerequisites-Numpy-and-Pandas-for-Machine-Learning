{
 "cells": [
  {
   "cell_type": "markdown",
   "id": "93ad15a3",
   "metadata": {},
   "source": [
    "# Numpy functions - max() and argmax()"
   ]
  },
  {
   "cell_type": "code",
   "execution_count": 1,
   "id": "ec5826a3",
   "metadata": {},
   "outputs": [],
   "source": [
    "import numpy as np"
   ]
  },
  {
   "cell_type": "code",
   "execution_count": 2,
   "id": "30b7b11d",
   "metadata": {},
   "outputs": [
    {
     "data": {
      "text/plain": [
       "array([ 8, 10, 13,  2, 21, 12, 13, 13, 16,  5])"
      ]
     },
     "execution_count": 2,
     "metadata": {},
     "output_type": "execute_result"
    }
   ],
   "source": [
    "array = np.random.randint(0,25,10)\n",
    "array"
   ]
  },
  {
   "cell_type": "code",
   "execution_count": 4,
   "id": "a6480aa0",
   "metadata": {},
   "outputs": [
    {
     "data": {
      "text/plain": [
       "21"
      ]
     },
     "execution_count": 4,
     "metadata": {},
     "output_type": "execute_result"
    }
   ],
   "source": [
    "array.max()"
   ]
  },
  {
   "cell_type": "code",
   "execution_count": 6,
   "id": "5051940b",
   "metadata": {},
   "outputs": [
    {
     "data": {
      "text/plain": [
       "4"
      ]
     },
     "execution_count": 6,
     "metadata": {},
     "output_type": "execute_result"
    }
   ],
   "source": [
    "array.argmax()"
   ]
  },
  {
   "cell_type": "code",
   "execution_count": 7,
   "id": "7beae303",
   "metadata": {},
   "outputs": [
    {
     "data": {
      "text/plain": [
       "array([[18, 15, 22, 24,  1],\n",
       "       [20,  2, 16,  2,  5],\n",
       "       [19, 20, 23, 22, 22],\n",
       "       [15, 18, 23, 14, 18],\n",
       "       [13,  0, 18, 19, 12]])"
      ]
     },
     "execution_count": 7,
     "metadata": {},
     "output_type": "execute_result"
    }
   ],
   "source": [
    "array_two_dim = np.random.randint(0,25,(5,5))\n",
    "array_two_dim"
   ]
  },
  {
   "cell_type": "code",
   "execution_count": 8,
   "id": "1fc2eaa0",
   "metadata": {},
   "outputs": [
    {
     "data": {
      "text/plain": [
       "24"
      ]
     },
     "execution_count": 8,
     "metadata": {},
     "output_type": "execute_result"
    }
   ],
   "source": [
    "array_two_dim.max()"
   ]
  },
  {
   "cell_type": "code",
   "execution_count": 9,
   "id": "f3105e09",
   "metadata": {},
   "outputs": [
    {
     "data": {
      "text/plain": [
       "3"
      ]
     },
     "execution_count": 9,
     "metadata": {},
     "output_type": "execute_result"
    }
   ],
   "source": [
    "array_two_dim.argmax()"
   ]
  },
  {
   "cell_type": "code",
   "execution_count": null,
   "id": "308051e8",
   "metadata": {},
   "outputs": [],
   "source": []
  }
 ],
 "metadata": {
  "kernelspec": {
   "display_name": "Python 3 (ipykernel)",
   "language": "python",
   "name": "python3"
  },
  "language_info": {
   "codemirror_mode": {
    "name": "ipython",
    "version": 3
   },
   "file_extension": ".py",
   "mimetype": "text/x-python",
   "name": "python",
   "nbconvert_exporter": "python",
   "pygments_lexer": "ipython3",
   "version": "3.11.5"
  }
 },
 "nbformat": 4,
 "nbformat_minor": 5
}
