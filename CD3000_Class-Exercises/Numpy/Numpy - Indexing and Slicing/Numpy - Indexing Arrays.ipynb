{
 "cells": [
  {
   "cell_type": "markdown",
   "id": "7d3aa6dd",
   "metadata": {},
   "source": [
    "# Numpy - Indexing Arrays"
   ]
  },
  {
   "cell_type": "code",
   "execution_count": 1,
   "id": "1067736b",
   "metadata": {},
   "outputs": [],
   "source": [
    "import numpy as np"
   ]
  },
  {
   "cell_type": "code",
   "execution_count": 2,
   "id": "48daea36",
   "metadata": {},
   "outputs": [
    {
     "data": {
      "text/plain": [
       "array([ 0,  1,  2,  3,  4,  5,  6,  7,  8,  9, 10])"
      ]
     },
     "execution_count": 2,
     "metadata": {},
     "output_type": "execute_result"
    }
   ],
   "source": [
    "array = np.arange(0, 11)\n",
    "array"
   ]
  },
  {
   "cell_type": "code",
   "execution_count": 3,
   "id": "cafe1765",
   "metadata": {},
   "outputs": [
    {
     "data": {
      "text/plain": [
       "5"
      ]
     },
     "execution_count": 3,
     "metadata": {},
     "output_type": "execute_result"
    }
   ],
   "source": [
    "array[5]"
   ]
  },
  {
   "cell_type": "code",
   "execution_count": 4,
   "id": "d96b58ac",
   "metadata": {},
   "outputs": [
    {
     "data": {
      "text/plain": [
       "8"
      ]
     },
     "execution_count": 4,
     "metadata": {},
     "output_type": "execute_result"
    }
   ],
   "source": [
    "array[-3]"
   ]
  },
  {
   "cell_type": "code",
   "execution_count": 5,
   "id": "cd733124",
   "metadata": {},
   "outputs": [
    {
     "data": {
      "text/plain": [
       "array([[ 5, 10, 15],\n",
       "       [20, 25, 30],\n",
       "       [35, 40, 45]])"
      ]
     },
     "execution_count": 5,
     "metadata": {},
     "output_type": "execute_result"
    }
   ],
   "source": [
    "variable = np.array([[5,10,15],\n",
    "                    [20,25,30],\n",
    "                    [35,40,45]])\n",
    "variable"
   ]
  },
  {
   "cell_type": "code",
   "execution_count": 6,
   "id": "7aa43d18",
   "metadata": {},
   "outputs": [
    {
     "data": {
      "text/plain": [
       "5"
      ]
     },
     "execution_count": 6,
     "metadata": {},
     "output_type": "execute_result"
    }
   ],
   "source": [
    "variable[0,0]"
   ]
  },
  {
   "cell_type": "code",
   "execution_count": 7,
   "id": "927a2e0a",
   "metadata": {},
   "outputs": [
    {
     "data": {
      "text/plain": [
       "45"
      ]
     },
     "execution_count": 7,
     "metadata": {},
     "output_type": "execute_result"
    }
   ],
   "source": [
    "variable[2,2]"
   ]
  },
  {
   "cell_type": "code",
   "execution_count": 8,
   "id": "4b2cf10c",
   "metadata": {},
   "outputs": [
    {
     "data": {
      "text/plain": [
       "35"
      ]
     },
     "execution_count": 8,
     "metadata": {},
     "output_type": "execute_result"
    }
   ],
   "source": [
    "variable[-1,-3]"
   ]
  },
  {
   "cell_type": "code",
   "execution_count": null,
   "id": "be8a9d88",
   "metadata": {},
   "outputs": [],
   "source": []
  }
 ],
 "metadata": {
  "kernelspec": {
   "display_name": "Python 3 (ipykernel)",
   "language": "python",
   "name": "python3"
  },
  "language_info": {
   "codemirror_mode": {
    "name": "ipython",
    "version": 3
   },
   "file_extension": ".py",
   "mimetype": "text/x-python",
   "name": "python",
   "nbconvert_exporter": "python",
   "pygments_lexer": "ipython3",
   "version": "3.11.5"
  }
 },
 "nbformat": 4,
 "nbformat_minor": 5
}
