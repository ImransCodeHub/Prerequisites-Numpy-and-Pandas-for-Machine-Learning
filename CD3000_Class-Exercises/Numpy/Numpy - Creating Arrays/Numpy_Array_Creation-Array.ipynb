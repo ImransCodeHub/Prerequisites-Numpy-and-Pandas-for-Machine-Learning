{
 "cells": [
  {
   "cell_type": "markdown",
   "id": "2041d72f",
   "metadata": {},
   "source": [
    "# Creating Numpy Arrays using the Array()"
   ]
  },
  {
   "cell_type": "code",
   "execution_count": 1,
   "id": "98ce4a5b",
   "metadata": {},
   "outputs": [],
   "source": [
    "import numpy as np"
   ]
  },
  {
   "cell_type": "code",
   "execution_count": 2,
   "id": "7895e562",
   "metadata": {},
   "outputs": [
    {
     "data": {
      "text/plain": [
       "array([2, 4, 6, 8])"
      ]
     },
     "execution_count": 2,
     "metadata": {},
     "output_type": "execute_result"
    }
   ],
   "source": [
    "np.array([2,4,6,8])"
   ]
  },
  {
   "cell_type": "code",
   "execution_count": 3,
   "id": "e8768290",
   "metadata": {},
   "outputs": [],
   "source": [
    "test_variable = [2.8,5,7,6]"
   ]
  },
  {
   "cell_type": "markdown",
   "id": "56d9a99c",
   "metadata": {},
   "source": [
    "Checking the data types in the list"
   ]
  },
  {
   "cell_type": "code",
   "execution_count": 4,
   "id": "8deafef4",
   "metadata": {},
   "outputs": [
    {
     "name": "stdout",
     "output_type": "stream",
     "text": [
      "<class 'float'>\n",
      "<class 'int'>\n"
     ]
    }
   ],
   "source": [
    "print(type(test_variable[0]))\n",
    "print(type(test_variable[1]))"
   ]
  },
  {
   "cell_type": "code",
   "execution_count": 5,
   "id": "18838ee0",
   "metadata": {},
   "outputs": [
    {
     "data": {
      "text/plain": [
       "array([2.8, 5. , 7. , 6. ])"
      ]
     },
     "execution_count": 5,
     "metadata": {},
     "output_type": "execute_result"
    }
   ],
   "source": [
    "new_variable = np.array([2.8,5,7,6])\n",
    "new_variable"
   ]
  },
  {
   "cell_type": "code",
   "execution_count": 6,
   "id": "3873b50f",
   "metadata": {},
   "outputs": [
    {
     "name": "stdout",
     "output_type": "stream",
     "text": [
      "<class 'numpy.float64'>\n",
      "<class 'numpy.float64'>\n"
     ]
    }
   ],
   "source": [
    "print(type(new_variable[0]))\n",
    "print(type(new_variable[1]))"
   ]
  },
  {
   "cell_type": "code",
   "execution_count": 7,
   "id": "18809c6b",
   "metadata": {},
   "outputs": [
    {
     "data": {
      "text/plain": [
       "array([2, 5, 7, 6])"
      ]
     },
     "execution_count": 7,
     "metadata": {},
     "output_type": "execute_result"
    }
   ],
   "source": [
    "new_variable2 = np.array([2.8,5,7,6], dtype='int')\n",
    "new_variable2"
   ]
  },
  {
   "cell_type": "code",
   "execution_count": null,
   "id": "b0edd08c",
   "metadata": {},
   "outputs": [],
   "source": []
  }
 ],
 "metadata": {
  "kernelspec": {
   "display_name": "Python 3 (ipykernel)",
   "language": "python",
   "name": "python3"
  },
  "language_info": {
   "codemirror_mode": {
    "name": "ipython",
    "version": 3
   },
   "file_extension": ".py",
   "mimetype": "text/x-python",
   "name": "python",
   "nbconvert_exporter": "python",
   "pygments_lexer": "ipython3",
   "version": "3.11.5"
  }
 },
 "nbformat": 4,
 "nbformat_minor": 5
}
